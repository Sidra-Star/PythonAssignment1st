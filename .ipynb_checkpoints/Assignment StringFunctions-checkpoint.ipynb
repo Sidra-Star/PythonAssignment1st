{
 "cells": [
  {
   "cell_type": "code",
   "execution_count": 2,
   "metadata": {},
   "outputs": [
    {
     "name": "stdout",
     "output_type": "stream",
     "text": [
      "ARTIFICIAL INTELLIGENCE\n",
      "Artificial Intelligence\n"
     ]
    }
   ],
   "source": [
    "course = \"Artificial Intelligence\"\n",
    "print(course.upper()) # upper function\n",
    "print(course)"
   ]
  },
  {
   "cell_type": "code",
   "execution_count": null,
   "metadata": {},
   "outputs": [],
   "source": [
    "dir(course)"
   ]
  },
  {
   "cell_type": "code",
   "execution_count": 4,
   "metadata": {},
   "outputs": [
    {
     "name": "stdout",
     "output_type": "stream",
     "text": [
      "Artificial intelligence\n",
      "Artificial Intelligence\n"
     ]
    }
   ],
   "source": [
    "course = \"Artificial Intelligence\"\n",
    "print(course.capitalize())#capitalize function\n",
    "print(course)"
   ]
  },
  {
   "cell_type": "code",
   "execution_count": 7,
   "metadata": {},
   "outputs": [
    {
     "name": "stdout",
     "output_type": "stream",
     "text": [
      "sidra sarwar\n",
      "sidra Sarwar\n"
     ]
    }
   ],
   "source": [
    "Name = \"Sidra Sarwar\"\n",
    "print(Name.casefold())\n",
    "print(Name)"
   ]
  },
  {
   "cell_type": "code",
   "execution_count": 14,
   "metadata": {},
   "outputs": [
    {
     "name": "stdout",
     "output_type": "stream",
     "text": [
      "00100\n"
     ]
    }
   ],
   "source": [
    "marks = \"100\"\n",
    "result = marks.zfill(5)#zfill function\n",
    "\n",
    "print(result)"
   ]
  },
  {
   "cell_type": "code",
   "execution_count": 15,
   "metadata": {},
   "outputs": [
    {
     "name": "stdout",
     "output_type": "stream",
     "text": [
      "Person Who Don'T Quit\n"
     ]
    }
   ],
   "source": [
    "coder = \"person who don't quit\"\n",
    "\n",
    "coder = coder.title()#This method returns a string where the first character in every word is upper case\n",
    "\n",
    "print(coder) "
   ]
  },
  {
   "cell_type": "code",
   "execution_count": 18,
   "metadata": {},
   "outputs": [
    {
     "name": "stdout",
     "output_type": "stream",
     "text": [
      "rafeh qAZI PAKISTAN\n"
     ]
    }
   ],
   "source": [
    "            #The swapcase() method returns a string where all the upper case letters are lower case and vice versa.\n",
    "expert = \"RAFEH Qazi pakistan\"\n",
    "\n",
    "expert = expert.swapcase()\n",
    "\n",
    "print(expert) "
   ]
  },
  {
   "cell_type": "code",
   "execution_count": 21,
   "metadata": {},
   "outputs": [
    {
     "name": "stdout",
     "output_type": "stream",
     "text": [
      "Bahria uni\n"
     ]
    }
   ],
   "source": [
    "##The strip() method removes any leading and trailing  characters (space is the default leading character to remove)\n",
    "Uni = \"   Bahria uni  \"\n",
    "print (Uni.strip())\n"
   ]
  },
  {
   "cell_type": "code",
   "execution_count": 22,
   "metadata": {},
   "outputs": [
    {
     "name": "stdout",
     "output_type": "stream",
     "text": [
      "i love sidra she is good girl\n"
     ]
    }
   ],
   "source": [
    "friend = \"    sidra      \"\n",
    "\n",
    "x = friend.strip()\n",
    "\n",
    "print(\"i love\", x, \"she is good girl\")"
   ]
  },
  {
   "cell_type": "code",
   "execution_count": 23,
   "metadata": {},
   "outputs": [
    {
     "name": "stdout",
     "output_type": "stream",
     "text": [
      "False\n"
     ]
    }
   ],
   "source": [
    "#The startswith() method returns True if the string starts with the specified value, otherwise False.\n",
    "lang = \"Python is very simple to learn.\"\n",
    "\n",
    "print(lang.startswith(\"very\"))\n",
    "\n"
   ]
  },
  {
   "cell_type": "code",
   "execution_count": 24,
   "metadata": {},
   "outputs": [
    {
     "name": "stdout",
     "output_type": "stream",
     "text": [
      "True\n"
     ]
    }
   ],
   "source": [
    "lang = \"Python is very simple to learn.\"\n",
    "\n",
    "print(lang.startswith(\"Python\"))\n"
   ]
  },
  {
   "cell_type": "code",
   "execution_count": 26,
   "metadata": {},
   "outputs": [
    {
     "name": "stdout",
     "output_type": "stream",
     "text": [
      "['welcome to programming', ' you will learn how to ', 'think']\n"
     ]
    }
   ],
   "source": [
    "mesg = \"welcome to programming\\n you will learn how to \\nthink\"\n",
    "\n",
    "print(mesg.splitlines())#The splitlines() method splits a string into a list. The splitting is done at line breaks.\n"
   ]
  },
  {
   "cell_type": "code",
   "execution_count": 27,
   "metadata": {},
   "outputs": [
    {
     "name": "stdout",
     "output_type": "stream",
     "text": [
      "['Assalam o alaikum', 'i am sidra,its my first assignment']\n"
     ]
    }
   ],
   "source": [
    "txt = \"Assalam o alaikum, i am sidra,its my first assignment\"\n",
    "\n",
    "print(txt.split(\", \"))#The split() method splits a string into a list.\n",
    "\n"
   ]
  },
  {
   "cell_type": "code",
   "execution_count": 30,
   "metadata": {},
   "outputs": [
    {
     "name": "stdout",
     "output_type": "stream",
     "text": [
      "7\n"
     ]
    }
   ],
   "source": [
    "#The rfind() method finds the last occurrence of the specified value.\n",
    "read = \"Hitesh good teacher, teacher of programmers.\"\n",
    "\n",
    "read = read.rfind(\"good\")\n",
    "\n",
    "print(read)"
   ]
  },
  {
   "cell_type": "code",
   "execution_count": 31,
   "metadata": {},
   "outputs": [
    {
     "name": "stdout",
     "output_type": "stream",
     "text": [
      "-1\n"
     ]
    }
   ],
   "source": [
    "read = \"Hitesh good teacher, teacher of programmers.\"\n",
    "\n",
    "read = read.rfind(\"man\")# return -1 if value is not find\n",
    "\n",
    "print(read)"
   ]
  },
  {
   "cell_type": "code",
   "execution_count": 33,
   "metadata": {},
   "outputs": [
    {
     "name": "stdout",
     "output_type": "stream",
     "text": [
      "39\n"
     ]
    }
   ],
   "source": [
    "read = \"Hitesh good teacher, teacher of programmers.\"\n",
    "read = read.rindex(\"m\")# The rindex() method finds the last occurrence of the specified value.\n",
    "print(read)"
   ]
  },
  {
   "cell_type": "code",
   "execution_count": 36,
   "metadata": {},
   "outputs": [
    {
     "ename": "ValueError",
     "evalue": "substring not found",
     "output_type": "error",
     "traceback": [
      "\u001b[1;31m---------------------------------------------------------------------------\u001b[0m",
      "\u001b[1;31mValueError\u001b[0m                                Traceback (most recent call last)",
      "\u001b[1;32m<ipython-input-36-84e525911d77>\u001b[0m in \u001b[0;36m<module>\u001b[1;34m\u001b[0m\n\u001b[0;32m      1\u001b[0m \u001b[0mread\u001b[0m \u001b[1;33m=\u001b[0m \u001b[1;34m\"Hitesh good teacher, teacher of programmers.\"\u001b[0m\u001b[1;33m\u001b[0m\u001b[1;33m\u001b[0m\u001b[0m\n\u001b[1;32m----> 2\u001b[1;33m \u001b[0mread\u001b[0m \u001b[1;33m=\u001b[0m \u001b[0mread\u001b[0m\u001b[1;33m.\u001b[0m\u001b[0mrindex\u001b[0m\u001b[1;33m(\u001b[0m\u001b[1;34m\"young\"\u001b[0m\u001b[1;33m)\u001b[0m\u001b[1;31m# same as rfind only diffrence is it only rays exception\u001b[0m\u001b[1;33m\u001b[0m\u001b[1;33m\u001b[0m\u001b[0m\n\u001b[0m\u001b[0;32m      3\u001b[0m \u001b[0mprint\u001b[0m\u001b[1;33m(\u001b[0m\u001b[0mread\u001b[0m\u001b[1;33m)\u001b[0m\u001b[1;33m\u001b[0m\u001b[1;33m\u001b[0m\u001b[0m\n",
      "\u001b[1;31mValueError\u001b[0m: substring not found"
     ]
    }
   ],
   "source": [
    "read = \"Hitesh good teacher, teacher of programmers.\"\n",
    "read = read.rindex(\"young\")# same as rfind only diffrence is it only rays exception\n",
    "print(read)"
   ]
  },
  {
   "cell_type": "code",
   "execution_count": 37,
   "metadata": {},
   "outputs": [
    {
     "name": "stdout",
     "output_type": "stream",
     "text": [
      "-1\n"
     ]
    },
    {
     "ename": "ValueError",
     "evalue": "substring not found",
     "output_type": "error",
     "traceback": [
      "\u001b[1;31m---------------------------------------------------------------------------\u001b[0m",
      "\u001b[1;31mValueError\u001b[0m                                Traceback (most recent call last)",
      "\u001b[1;32m<ipython-input-37-3169c7547f65>\u001b[0m in \u001b[0;36m<module>\u001b[1;34m\u001b[0m\n\u001b[0;32m      2\u001b[0m \u001b[1;33m\u001b[0m\u001b[0m\n\u001b[0;32m      3\u001b[0m \u001b[0mprint\u001b[0m\u001b[1;33m(\u001b[0m\u001b[0mlook\u001b[0m\u001b[1;33m.\u001b[0m\u001b[0mrfind\u001b[0m\u001b[1;33m(\u001b[0m\u001b[1;34m\"q\"\u001b[0m\u001b[1;33m)\u001b[0m\u001b[1;33m)\u001b[0m\u001b[1;33m\u001b[0m\u001b[1;33m\u001b[0m\u001b[0m\n\u001b[1;32m----> 4\u001b[1;33m \u001b[0mprint\u001b[0m\u001b[1;33m(\u001b[0m\u001b[0mlook\u001b[0m\u001b[1;33m.\u001b[0m\u001b[0mrindex\u001b[0m\u001b[1;33m(\u001b[0m\u001b[1;34m\"q\"\u001b[0m\u001b[1;33m)\u001b[0m\u001b[1;33m)\u001b[0m\u001b[1;33m\u001b[0m\u001b[1;33m\u001b[0m\u001b[0m\n\u001b[0m",
      "\u001b[1;31mValueError\u001b[0m: substring not found"
     ]
    }
   ],
   "source": [
    "look = \"aliens, welcome to new world.\"\n",
    "\n",
    "print(look.rfind(\"q\"))\n",
    "print(look.rindex(\"q\")) "
   ]
  },
  {
   "cell_type": "code",
   "execution_count": 39,
   "metadata": {},
   "outputs": [
    {
     "name": "stdout",
     "output_type": "stream",
     "text": [
      "                 Mom is mine love.\n"
     ]
    }
   ],
   "source": [
    "txt = \"Mom\"\n",
    "\n",
    "x = txt.rjust(20)#The rjust() method will right align the string, using a specified character (space is default) as the fill character.\n",
    "\n",
    "print(x, \"is mine love.\")"
   ]
  },
  {
   "cell_type": "code",
   "execution_count": 42,
   "metadata": {},
   "outputs": [
    {
     "name": "stdout",
     "output_type": "stream",
     "text": [
      "('what do ', 'you', ' think about hope ')\n"
     ]
    }
   ],
   "source": [
    "#The rpartition() method searches for the last occurrence of a specified string, and splits the string into a tuple containing three elements.\n",
    "#The first element contains the part before the specified string.\n",
    "#The second element contains the specified string.\n",
    "#The third element contains the part after the string.\n",
    "hope = \"what do you think about hope \"\n",
    "\n",
    "hope = hope.rpartition(\"you\")\n",
    "\n",
    "print(hope)"
   ]
  },
  {
   "cell_type": "code",
   "execution_count": 43,
   "metadata": {},
   "outputs": [
    {
     "name": "stdout",
     "output_type": "stream",
     "text": [
      "what you feel about yourself\n"
     ]
    }
   ],
   "source": [
    "Attitude = \"what you feel about others\"\n",
    "\n",
    "print(Attitude.replace(\"others\", \"yourself\"))#The replace() method replaces a specified phrase with another specified phrase.\n",
    "\n"
   ]
  },
  {
   "cell_type": "code",
   "execution_count": 46,
   "metadata": {},
   "outputs": [
    {
     "name": "stdout",
     "output_type": "stream",
     "text": [
      "('why? may your every moment of ', 'life', ' fill with happiness now smile please')\n"
     ]
    }
   ],
   "source": [
    "#Search for the word \"bananas\", and return a tuple with three elements:\n",
    "\n",
    "#1 - everything before the \"match\"\n",
    "#2 - the \"match\"\n",
    "#3 - everything after the \"match\"\n",
    "sad= \"why? may your every moment of life fill with happiness now smile please\"\n",
    "\n",
    "print(sad.partition(\"life\"))\n"
   ]
  },
  {
   "cell_type": "code",
   "execution_count": 49,
   "metadata": {},
   "outputs": [
    {
     "name": "stdout",
     "output_type": "stream",
     "text": [
      "sadiaSidraAnamSidraBasri\n"
     ]
    }
   ],
   "source": [
    "#The join() method takes all items in an iterable and joins them into one string.\n",
    "#A string must be specified as the separator.\n",
    "friendtuple = (\"sadia\",\"Anam\",\"Basri\")\n",
    "\n",
    "print(\"Sidra\".join(friendtuple))"
   ]
  },
  {
   "cell_type": "code",
   "execution_count": 50,
   "metadata": {},
   "outputs": [
    {
     "name": "stdout",
     "output_type": "stream",
     "text": [
      "brave                you yes who is reading this.\n"
     ]
    }
   ],
   "source": [
    "#The ljust() method will left align the string, using a specified character (space is default) as the fill character\n",
    "word = \"brave\"\n",
    "word= word.ljust(20)\n",
    "\n",
    "print(word, \"you yes who is reading this.\") "
   ]
  },
  {
   "cell_type": "code",
   "execution_count": 52,
   "metadata": {},
   "outputs": [
    {
     "name": "stdout",
     "output_type": "stream",
     "text": [
      "let it go every bad words and person who hurts you\n"
     ]
    }
   ],
   "source": [
    "#The lower() method returns a string where all characters are lower case.\n",
    "go = \"let it go every BAD words and person who HURTS you\"\n",
    "print(go.lower())"
   ]
  },
  {
   "cell_type": "code",
   "execution_count": 64,
   "metadata": {},
   "outputs": [
    {
     "name": "stdout",
     "output_type": "stream",
     "text": [
      "et it go every BAD  words and person who HURTS you\n"
     ]
    }
   ],
   "source": [
    "#\n",
    "#The lstrip() method removes any leading characters (space is the default leading character to remove)\n",
    "\n",
    "go = \"let it go every BAD  words and person who HURTS you\"\n",
    "print(go.lstrip(\"l\"))\n"
   ]
  },
  {
   "cell_type": "code",
   "execution_count": 67,
   "metadata": {},
   "outputs": [
    {
     "name": "stdout",
     "output_type": "stream",
     "text": [
      "loveyourself\n"
     ]
    }
   ],
   "source": [
    "ex = \",,,,,dou.....loveyourself\"\n",
    "\n",
    "ex = ex.lstrip(\",.dou\")\n",
    "\n",
    "print(ex) "
   ]
  },
  {
   "cell_type": "code",
   "execution_count": 70,
   "metadata": {},
   "outputs": [
    {
     "name": "stdout",
     "output_type": "stream",
     "text": [
      "False\n",
      "True\n",
      "False\n"
     ]
    }
   ],
   "source": [
    "#The isupper() method returns True if all the characters are in upper case, otherwise False.\n",
    "\n",
    "#Numbers, symbols and spaces are not checked, only alphabet characters.\n",
    "a = \"Hello Programmer!\"\n",
    "b = \"HOW ARE YOU\"\n",
    "c = \"How was Your DAY\"\n",
    "\n",
    "print(a.isupper())\n",
    "print(b.isupper())\n",
    "print(c.isupper()) "
   ]
  },
  {
   "cell_type": "code",
   "execution_count": 71,
   "metadata": {},
   "outputs": [
    {
     "name": "stdout",
     "output_type": "stream",
     "text": [
      "True\n",
      "False\n",
      "False\n",
      "False\n"
     ]
    }
   ],
   "source": [
    "#The istitle() method returns True if all words in a text start with a upper case letter, \n",
    "#AND the rest of the word are lower case letters, otherwise False.\n",
    "a = \"Hello Programmer!\"\n",
    "b = \"HOW ARE YOU\"\n",
    "c = \"How was Your DAY\"\n",
    "d = \" #$%^&\"\n",
    "\n",
    "print(a.istitle())\n",
    "print(b.istitle())\n",
    "print(c.istitle())\n",
    "print(d.istitle())"
   ]
  },
  {
   "cell_type": "code",
   "execution_count": 74,
   "metadata": {},
   "outputs": [
    {
     "name": "stdout",
     "output_type": "stream",
     "text": [
      "False\n"
     ]
    }
   ],
   "source": [
    "#Check if all the characters in the text are whitespaces:\n",
    "txt = \"   A   \"\n",
    "\n",
    "x = txt.isspace()\n",
    "\n",
    "print(x)"
   ]
  },
  {
   "cell_type": "code",
   "execution_count": 77,
   "metadata": {},
   "outputs": [
    {
     "name": "stdout",
     "output_type": "stream",
     "text": [
      "True\n"
     ]
    }
   ],
   "source": [
    "#Check if all the characters in the text are whitespaces:\n",
    "eg = \"  \"\n",
    "\n",
    "print(eg.isspace())\n",
    "\n"
   ]
  },
  {
   "cell_type": "code",
   "execution_count": 84,
   "metadata": {},
   "outputs": [
    {
     "name": "stdout",
     "output_type": "stream",
     "text": [
      "False\n"
     ]
    }
   ],
   "source": [
    "#\n",
    "#The isprintable() method returns True if all the characters are printable, otherwise False.\n",
    "msg = \"Do you Appreciate yourself%\\n\"\n",
    "\n",
    "msg = msg.isprintable()\n",
    "\n",
    "print(msg)"
   ]
  },
  {
   "cell_type": "code",
   "execution_count": 85,
   "metadata": {},
   "outputs": [
    {
     "name": "stdout",
     "output_type": "stream",
     "text": [
      "True\n"
     ]
    }
   ],
   "source": [
    "#\n",
    "#The isprintable() method returns True if all the characters are printable, otherwise False.\n",
    "msg = \"Do you Appreciate yourself\"\n",
    "\n",
    "msg = msg.isprintable()\n",
    "\n",
    "print(msg)"
   ]
  },
  {
   "cell_type": "code",
   "execution_count": null,
   "metadata": {},
   "outputs": [],
   "source": []
  },
  {
   "cell_type": "code",
   "execution_count": 90,
   "metadata": {},
   "outputs": [
    {
     "name": "stdout",
     "output_type": "stream",
     "text": [
      "False\n",
      "True\n",
      "False\n"
     ]
    }
   ],
   "source": [
    "a = \"\\56\" #unicode for 0\n",
    "b = \"4576\" #unicode for &sup2;\n",
    "c = \"Sidra\"\n",
    "#The isnumeric() method returns True if all the characters are numeric (0-9), otherwise False.\n",
    "\n",
    "#Exponents, like ² and ¾ are also considered to be numeric values.\n",
    "\n",
    "print(a.isnumeric())\n",
    "print(b.isnumeric())\n",
    "print(c.isnumeric()) "
   ]
  },
  {
   "cell_type": "code",
   "execution_count": 5,
   "metadata": {},
   "outputs": [
    {
     "name": "stdout",
     "output_type": "stream",
     "text": [
      " 26artificial intelligence\n"
     ]
    }
   ],
   "source": [
    "CName = \" Artificial Intelligence\"#The capitalize() method returns a string where the first character is upper case.\n",
    "\n",
    "CName = CName.capitalize()\n",
    "\n",
    "print (CName) "
   ]
  },
  {
   "cell_type": "code",
   "execution_count": 7,
   "metadata": {},
   "outputs": [
    {
     "name": "stdout",
     "output_type": "stream",
     "text": [
      " artificial intelligence\n"
     ]
    }
   ],
   "source": [
    "CName = \" Artificial Intelligence\"#The casefold() method returns a string where all the characters are lower case.\n",
    "\n",
    "CName = CName.casefold()\n",
    "\n",
    "print (CName) "
   ]
  },
  {
   "cell_type": "code",
   "execution_count": 15,
   "metadata": {},
   "outputs": [
    {
     "name": "stdout",
     "output_type": "stream",
     "text": [
      "ssssssssssAssignmentssssssssss\n"
     ]
    }
   ],
   "source": [
    "#The center() method will center align the string, using a specified character (space is default) as the fill character.\n",
    "work = \"Assignment\"\n",
    "\n",
    "print(work.center(30, \"s\"))\n",
    "\n"
   ]
  },
  {
   "cell_type": "code",
   "execution_count": 19,
   "metadata": {},
   "outputs": [
    {
     "name": "stdout",
     "output_type": "stream",
     "text": [
      "3\n"
     ]
    }
   ],
   "source": [
    "#The count() method returns the number of times a specified value appears in the string.\n",
    "frnd = \"you know what who is your friend , friend who takes you to right side ,friend who guides you\"\n",
    "\n",
    "frnd = frnd.count(\"who\")\n",
    "\n",
    "print(frnd)"
   ]
  },
  {
   "cell_type": "code",
   "execution_count": 25,
   "metadata": {},
   "outputs": [
    {
     "name": "stdout",
     "output_type": "stream",
     "text": [
      "2\n"
     ]
    }
   ],
   "source": [
    "frnd = \"you know what who is your friend , friend who takes you to right side ,friend who guides you\"\n",
    "\n",
    "frnd = frnd.count(\"who\" ,10,50)\n",
    "\n",
    "print(frnd) "
   ]
  },
  {
   "cell_type": "code",
   "execution_count": 26,
   "metadata": {},
   "outputs": [
    {
     "name": "stdout",
     "output_type": "stream",
     "text": [
      "b'Do you Appreciate yourself'\n"
     ]
    }
   ],
   "source": [
    "msg = \"Do you Appreciate yourself\"#The encode() method encodes the string, using the specified encoding.\n",
    "                                        #If no encoding is specified, UTF-8 will be used.\n",
    "\n",
    "msg = msg.encode()\n",
    "\n",
    "print(msg)"
   ]
  },
  {
   "cell_type": "code",
   "execution_count": 36,
   "metadata": {},
   "outputs": [
    {
     "name": "stdout",
     "output_type": "stream",
     "text": [
      "False\n"
     ]
    }
   ],
   "source": [
    "frnd = \"you know what who is your friend , friend who takes you to right side ,friend who guides you.\"\n",
    "\n",
    "#The endswith() method returns True if the string ends with the specified value, otherwise False.\n",
    "\n",
    "print(frnd.endswith(\"you\"))\n",
    "\n"
   ]
  },
  {
   "cell_type": "code",
   "execution_count": 40,
   "metadata": {},
   "outputs": [
    {
     "name": "stdout",
     "output_type": "stream",
     "text": [
      "*\t*\t*\t*\t*\n",
      "*       *       *       *       *\n",
      "* * * * *\n",
      "*   *   *   *   *\n",
      "*     *     *     *     *\n",
      "*       *       *       *       *\n",
      "*         *         *         *         *\n"
     ]
    }
   ],
   "source": [
    "txt = \"*\\t*\\t*\\t*\\t*\"\n",
    "#The expandtabs() method sets the tab size to the specified number of whitespaces.\n",
    "print(txt)\n",
    "print(txt.expandtabs())\n",
    "print(txt.expandtabs(2))\n",
    "print(txt.expandtabs(4))\n",
    "print(txt.expandtabs(6))\n",
    "print(txt.expandtabs(8))\n",
    "print(txt.expandtabs(10)) "
   ]
  },
  {
   "cell_type": "code",
   "execution_count": 45,
   "metadata": {},
   "outputs": [
    {
     "name": "stdout",
     "output_type": "stream",
     "text": [
      "21\n",
      "21\n"
     ]
    }
   ],
   "source": [
    "gret = \"Welcome to future AI Engineers.\" #The find() method finds the first occurrence of the specified value.\n",
    "\n",
    "                                        #The find() method returns -1 if the value is not foun\n",
    "print(gret.find(\"E\"))\n",
    "print(gret.index(\"E\"))"
   ]
  },
  {
   "cell_type": "code",
   "execution_count": 49,
   "metadata": {},
   "outputs": [
    {
     "name": "stdout",
     "output_type": "stream",
     "text": [
      "Total Income 1000.00 dollars!\n"
     ]
    }
   ],
   "source": [
    "balnc = \"Total Income {price:.2f} dollars!\" #The format() method formats the specified value(s) and insert them inside the string's placeholder.\n",
    "#The placeholder is defined using curly brackets: {}.\n",
    "print(balnc.format(price = 1000)) "
   ]
  },
  {
   "cell_type": "code",
   "execution_count": 56,
   "metadata": {},
   "outputs": [
    {
     "name": "stdout",
     "output_type": "stream",
     "text": [
      "My name is Hassan, I'am 16\n",
      "My name is Hassan, I'am 16\n",
      "My name is Hassan, I'am 16\n"
     ]
    }
   ],
   "source": [
    "txt1 = \"My name is {fname}, I'am {age}\".format(fname = \"Hassan\", age = 16)\n",
    "print(txt1)\n",
    "txt2 = \"My name is {0}, I'am {1}\".format(\"Hassan\",16)\n",
    "print(txt2)\n",
    "txt3 = \"My name is {}, I'am {}\".format(\"Hassan\",16)\n",
    "print(txt3)"
   ]
  },
  {
   "cell_type": "code",
   "execution_count": 60,
   "metadata": {},
   "outputs": [
    {
     "name": "stdout",
     "output_type": "stream",
     "text": [
      "True\n"
     ]
    }
   ],
   "source": [
    "#The isalnum() method returns True if all the characters are alphanumeric, meaning alphabet letter (a-z) and numbers (0-9).\n",
    "\n",
    "\n",
    "txt = \"Company34\"\n",
    "\n",
    "x = txt.isalnum()\n",
    "\n",
    "print(x)"
   ]
  },
  {
   "cell_type": "code",
   "execution_count": 61,
   "metadata": {},
   "outputs": [
    {
     "name": "stdout",
     "output_type": "stream",
     "text": [
      "True\n",
      "False\n"
     ]
    }
   ],
   "source": [
    "a = \"\\u0030\" #unicode for 0\n",
    "b = \"\\u0047\" #unicode for G\n",
    "\n",
    "print(a.isdecimal())\n",
    "print(b.isdecimal()) "
   ]
  },
  {
   "cell_type": "code",
   "execution_count": 63,
   "metadata": {},
   "outputs": [
    {
     "name": "stdout",
     "output_type": "stream",
     "text": [
      "False\n"
     ]
    }
   ],
   "source": [
    "txt = \"fom56\"\n",
    "\n",
    "x = txt.isdigit()\n",
    "\n",
    "print(x)"
   ]
  }
 ],
 "metadata": {
  "kernelspec": {
   "display_name": "Python 3",
   "language": "python",
   "name": "python3"
  },
  "language_info": {
   "codemirror_mode": {
    "name": "ipython",
    "version": 3
   },
   "file_extension": ".py",
   "mimetype": "text/x-python",
   "name": "python",
   "nbconvert_exporter": "python",
   "pygments_lexer": "ipython3",
   "version": "3.7.4"
  }
 },
 "nbformat": 4,
 "nbformat_minor": 2
}
